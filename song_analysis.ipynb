{
  "metadata": {
    "kernelspec": {
      "name": "python",
      "display_name": "Python (Pyodide)",
      "language": "python"
    },
    "language_info": {
      "codemirror_mode": {
        "name": "python",
        "version": 3
      },
      "file_extension": ".py",
      "mimetype": "text/x-python",
      "name": "python",
      "nbconvert_exporter": "python",
      "pygments_lexer": "ipython3",
      "version": "3.8"
    }
  },
  "nbformat_minor": 4,
  "nbformat": 4,
  "cells": [
    {
      "cell_type": "code",
      "source": "import matplotlib.pyplot as plt\nimport pandas as pd\n\nsong = \"\"\"\nDo it, baby, do what I should think\nDo it, do it, baby, do what I could think\nDo it, do it, baby, do what I should think\nDo it, do it, baby, do what I could think\nDo it, do it, do it, baby, do what I should think\nDo it, baby, do what I could think\nDo it, do it, do it, baby, do what I should think\nDo it, do it baby, do what I could think\n\nI ain't never rep a set, baby (Tsk, tsk)\nAin't doing you wrong\nI could clean up good for you\nOh, I know right from wrong\n'Cause I wanna make it, so badly (Mm, mm, mm)\nI'm a million dollar baby (Mm, mm, mm, don't at me)\nYeah, hell no (Yeah, yeah)\n\nYou rep my city for so damn long (Ah, ah)\nBut you still don't notice me, my sound next (Mhm)\nVA next (Yeah, yeah), I'm at they neck (Yeah, yeah)\nI'm running up a check (Yeah, yeah, yeah, yeah)\nShe a bad lil' mama, she a diva (Mm)\nNo matter what happens, he cannot come between us again (Mm, mm, mm)\nI know we're better than friends (Better than friends)\nI took her to Queen's Gambit (Yeah, yeah), showed around my friends (Right now)\nTried to pick some energy up, it don't matter (—ter)\nI know you haven't moved on if you tried (Oh, no)\nI don't believe it, baby, I know you lied (Oh, no)\nAll night long, what you mean, \"I changed\"?\nHaven't stayed the same\nI've been losing my mind (Ooh, ooh, ooh)\nI said, \"The city is mine\" (Ooh, ooh, ooh)\n\nI ain't never rep a set, baby (Mm, mm-mm)\nAin't doing you wrong\nI could clean up good for you (Mm, mm-mm)\nOh, I know right from wrong\n'Cause I wanna make it, so badly (Mm, mm, mm)\nI'm a million dollar baby (Mm, mm, mm, don't at me)\nYeah, hell no\nI ain't never rep a set, baby (Mm, mm-mm)\nAin't doing you wrong\nI could clean up good for you (Mm, mm-mm)\nOh, I know right from wrong\n'Cause I wanna make it, so badly (Mm, mm, mm)\nI'm a million dollar baby (Mm, mm, mm, don't at me)\nYeah, hell nah (No, no, no)\n\nHell-hell no\nYeah, hell-hell no\nHell-hell no\nDo it, baby, do what I should think\nDo it, do it, baby, do what I could think\nDo it, baby, do what I should think\nDo it, do it, baby, do what I could think\nHell-hell nah\nYeah, hell-hell nah\nHell-hell nah\n\"\"\"\n\npd.Series(song.lower().replace(\",\",\"\").split()).value_counts()[0:5]",
      "metadata": {
        "trusted": true,
        "scrolled": true
      },
      "outputs": [
        {
          "execution_count": 41,
          "output_type": "execute_result",
          "data": {
            "text/plain": "do      34\ni       30\nit      27\nbaby    19\nwhat    14\ndtype: int64"
          },
          "metadata": {}
        }
      ],
      "execution_count": 41
    },
    {
      "cell_type": "code",
      "source": "",
      "metadata": {
        "trusted": true
      },
      "outputs": [],
      "execution_count": null
    },
    {
      "cell_type": "code",
      "source": "",
      "metadata": {
        "trusted": true
      },
      "outputs": [],
      "execution_count": null
    }
  ]
}